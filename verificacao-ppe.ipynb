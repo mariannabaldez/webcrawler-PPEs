{
 "cells": [
  {
   "cell_type": "markdown",
   "metadata": {},
   "source": [
    "### Imports"
   ]
  },
  {
   "cell_type": "code",
   "execution_count": 10,
   "metadata": {},
   "outputs": [],
   "source": [
    "import urllib3\n",
    "import pandas as pd\n",
    "import zipfile\n",
    "import io\n",
    "import warnings\n",
    "import datetime\n",
    "import logging\n",
    "from datetime import date"
   ]
  },
  {
   "cell_type": "markdown",
   "metadata": {},
   "source": [
    "### Forma url de acesso"
   ]
  },
  {
   "cell_type": "code",
   "execution_count": 12,
   "metadata": {},
   "outputs": [],
   "source": [
    "def forming_date(date):\n",
    "    ''' return: Data no formato que entrará na url'''\n",
    "    year = date.year\n",
    "    month = date.month\n",
    "    if month < 10:\n",
    "        month = '0' + str(month)\n",
    "\n",
    "    return str(year) + str(month)\n"
   ]
  },
  {
   "cell_type": "code",
   "execution_count": null,
   "metadata": {},
   "outputs": [],
   "source": [
    "date = forming_url(date(2023, 8, 1))\n",
    "url = 'https://www.portaldatransparencia.gov.br/' + \\\n",
    "    f'download-de-dados/pep/{date}'\n",
    "\n",
    "warnings.filterwarnings('ignore')\n",
    "response = urllib3.PoolManager().request(\"GET\",url)\n",
    "\n",
    "save_path = './'\n",
    "\n",
    "if response.status == 200:\n",
    "    with open(save_path, 'wb') as f:\n",
    "        f.write(response.data)\n",
    "    logging(f\"Download concluído: {save_path}\")\n",
    "\n",
    "    file = zipfile.ZipFile(io.BytesIO(save_path))\n",
    "    file.extractall(path)\n",
    "\n",
    "    file = pd.read_csv(f'./{date}PEP.csv', sep = ';', encoding = 'ISO-8859-1')\n",
    "\n",
    "#seleção da coluna de nomes que será verificada\n",
    "column_names = file.array[\"Nome_PEP\"]\n",
    "print(column_names)"
   ]
  }
 ],
 "metadata": {
  "interpreter": {
   "hash": "916dbcbb3f70747c44a77c7bcd40155683ae19c65e1c03b4aa3499c5328201f1"
  },
  "kernelspec": {
   "display_name": "Python 3.10.4 64-bit",
   "language": "python",
   "name": "python3"
  },
  "language_info": {
   "codemirror_mode": {
    "name": "ipython",
    "version": 3
   },
   "file_extension": ".py",
   "mimetype": "text/x-python",
   "name": "python",
   "nbconvert_exporter": "python",
   "pygments_lexer": "ipython3",
   "version": "3.10.6"
  },
  "orig_nbformat": 4
 },
 "nbformat": 4,
 "nbformat_minor": 2
}
